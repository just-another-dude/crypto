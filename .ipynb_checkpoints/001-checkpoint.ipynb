{
 "cells": [
  {
   "cell_type": "code",
   "execution_count": 5,
   "id": "d60baf69",
   "metadata": {},
   "outputs": [],
   "source": [
    "from requests import Request, Session\n",
    "from requests.exceptions import ConnectionError, Timeout, TooManyRedirects\n",
    "import json\n",
    "\n",
    "url = 'https://pro-api.coinmarketcap.com/v1/cryptocurrency/listings/latest'\n",
    "parameters = {\n",
    "  'start':'1',\n",
    "  'limit':'5000',\n",
    "  'convert':'USD'\n",
    "}\n",
    "headers = {\n",
    "  'Accepts': 'application/json',\n",
    "  'X-CMC_PRO_API_KEY': '416e86ef-77e0-4fc3-8ff5-d841c257905f',\n",
    "}\n",
    "\n",
    "session = Session()\n",
    "session.headers.update(headers)\n"
   ]
  },
  {
   "cell_type": "code",
   "execution_count": 6,
   "id": "f4b3d9d3",
   "metadata": {},
   "outputs": [],
   "source": [
    "response = session.get(url, params=parameters)\n",
    "data = json.loads(response.text)"
   ]
  },
  {
   "cell_type": "code",
   "execution_count": 7,
   "id": "71d1935d",
   "metadata": {},
   "outputs": [
    {
     "data": {
      "text/plain": [
       "{'id': 1,\n",
       " 'name': 'Bitcoin',\n",
       " 'symbol': 'BTC',\n",
       " 'slug': 'bitcoin',\n",
       " 'num_market_pairs': 8676,\n",
       " 'date_added': '2013-04-28T00:00:00.000Z',\n",
       " 'tags': ['mineable',\n",
       "  'pow',\n",
       "  'sha-256',\n",
       "  'store-of-value',\n",
       "  'state-channels',\n",
       "  'coinbase-ventures-portfolio',\n",
       "  'three-arrows-capital-portfolio',\n",
       "  'polychain-capital-portfolio',\n",
       "  'binance-labs-portfolio',\n",
       "  'arrington-xrp-capital',\n",
       "  'blockchain-capital-portfolio',\n",
       "  'boostvc-portfolio',\n",
       "  'cms-holdings-portfolio',\n",
       "  'dcg-portfolio',\n",
       "  'dragonfly-capital-portfolio',\n",
       "  'electric-capital-portfolio',\n",
       "  'fabric-ventures-portfolio',\n",
       "  'framework-ventures',\n",
       "  'galaxy-digital-portfolio',\n",
       "  'huobi-capital',\n",
       "  'alameda-research-portfolio',\n",
       "  'a16z-portfolio',\n",
       "  '1confirmation-portfolio',\n",
       "  'winklevoss-capital',\n",
       "  'usv-portfolio',\n",
       "  'placeholder-ventures-portfolio',\n",
       "  'pantera-capital-portfolio',\n",
       "  'multicoin-capital-portfolio',\n",
       "  'paradigm-xzy-screener'],\n",
       " 'max_supply': 21000000,\n",
       " 'circulating_supply': 18826437,\n",
       " 'total_supply': 18826437,\n",
       " 'platform': None,\n",
       " 'cmc_rank': 1,\n",
       " 'last_updated': '2021-09-26T04:53:02.000Z',\n",
       " 'quote': {'USD': {'price': 42189.167246130855,\n",
       "   'volume_24h': 30142831867.087154,\n",
       "   'percent_change_1h': -0.19064001,\n",
       "   'percent_change_24h': -1.3573018,\n",
       "   'percent_change_7d': -11.90834176,\n",
       "   'percent_change_30d': -9.98590075,\n",
       "   'percent_change_60d': 5.91109892,\n",
       "   'percent_change_90d': 22.63190234,\n",
       "   'market_cap': 794271699241.7461,\n",
       "   'market_cap_dominance': 42.8371,\n",
       "   'fully_diluted_market_cap': 885972512168.75,\n",
       "   'last_updated': '2021-09-26T04:53:02.000Z'}}}"
      ]
     },
     "execution_count": 7,
     "metadata": {},
     "output_type": "execute_result"
    }
   ],
   "source": [
    "data['data'][0]"
   ]
  },
  {
   "cell_type": "code",
   "execution_count": 13,
   "id": "8a017b92",
   "metadata": {},
   "outputs": [
    {
     "name": "stdout",
     "output_type": "stream",
     "text": [
      "ccoinname: Bitcoin\n",
      "ccoinsymbol: BTC\n",
      "ccoinvalue: 42189.167246130855\n"
     ]
    }
   ],
   "source": [
    "for()\n",
    "ccoinname = data['data'][0]['name']\n",
    "ccoinsymbol = data['data'][0]['symbol']\n",
    "ccoinvalue = data['data'][0]['quote']['USD']['price']\n",
    "print(\"ccoinname:\",ccoinname)\n",
    "print(\"ccoinsymbol:\",ccoinsymbol)\n",
    "print(\"ccoinvalue:\",ccoinvalue)"
   ]
  },
  {
   "cell_type": "code",
   "execution_count": 15,
   "id": "c81ec5c2",
   "metadata": {},
   "outputs": [
    {
     "ename": "TypeError",
     "evalue": "list indices must be integers or slices, not str",
     "output_type": "error",
     "traceback": [
      "\u001b[0;31m---------------------------------------------------------------------------\u001b[0m",
      "\u001b[0;31mTypeError\u001b[0m                                 Traceback (most recent call last)",
      "\u001b[0;32m/tmp/ipykernel_279/1592726805.py\u001b[0m in \u001b[0;36m<module>\u001b[0;34m\u001b[0m\n\u001b[0;32m----> 1\u001b[0;31m \u001b[0mdata\u001b[0m\u001b[0;34m[\u001b[0m\u001b[0;34m'data'\u001b[0m\u001b[0;34m]\u001b[0m\u001b[0;34m[\u001b[0m\u001b[0;34m'id'\u001b[0m\u001b[0;34m]\u001b[0m\u001b[0;34m\u001b[0m\u001b[0;34m\u001b[0m\u001b[0m\n\u001b[0m",
      "\u001b[0;31mTypeError\u001b[0m: list indices must be integers or slices, not str"
     ]
    }
   ],
   "source": [
    "data['data']['id']"
   ]
  }
 ],
 "metadata": {
  "kernelspec": {
   "display_name": "Python 3 (ipykernel)",
   "language": "python",
   "name": "python3"
  },
  "language_info": {
   "codemirror_mode": {
    "name": "ipython",
    "version": 3
   },
   "file_extension": ".py",
   "mimetype": "text/x-python",
   "name": "python",
   "nbconvert_exporter": "python",
   "pygments_lexer": "ipython3",
   "version": "3.9.7"
  }
 },
 "nbformat": 4,
 "nbformat_minor": 5
}
